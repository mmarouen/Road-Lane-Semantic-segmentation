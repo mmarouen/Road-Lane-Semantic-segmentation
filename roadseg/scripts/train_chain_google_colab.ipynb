{
  "nbformat": 4,
  "nbformat_minor": 0,
  "metadata": {
    "colab": {
      "name": "train_chain_google_colab.ipynb",
      "provenance": [],
      "collapsed_sections": []
    },
    "kernelspec": {
      "name": "python3",
      "display_name": "Python 3"
    },
    "accelerator": "GPU"
  },
  "cells": [
    {
      "cell_type": "markdown",
      "metadata": {
        "id": "rmA1b3PYkGRC",
        "colab_type": "text"
      },
      "source": [
        "### Clone repo containing training script"
      ]
    },
    {
      "cell_type": "code",
      "metadata": {
        "id": "u-CSLIBkq2Af",
        "colab_type": "code",
        "colab": {
          "base_uri": "https://localhost:8080/",
          "height": 153
        },
        "outputId": "2eb0f3d3-5f00-4bae-f67e-dd800d9fd7f4"
      },
      "source": [
        "! git clone https://github.com/mmarouen/Road-Lane-Semantic-segmentation.git\n",
        "%cd Road-Lane-Semantic-segmentation/"
      ],
      "execution_count": 4,
      "outputs": [
        {
          "output_type": "stream",
          "text": [
            "Cloning into 'Road-Lane-Semantic-segmentation'...\n",
            "remote: Enumerating objects: 159, done.\u001b[K\n",
            "remote: Counting objects: 100% (159/159), done.\u001b[K\n",
            "remote: Compressing objects: 100% (102/102), done.\u001b[K\n",
            "remote: Total 195 (delta 91), reused 123 (delta 55), pack-reused 36\u001b[K\n",
            "Receiving objects: 100% (195/195), 1.86 MiB | 3.85 MiB/s, done.\n",
            "Resolving deltas: 100% (100/100), done.\n",
            "/content/Road-Lane-Semantic-segmentation\n"
          ],
          "name": "stdout"
        }
      ]
    },
    {
      "cell_type": "markdown",
      "metadata": {
        "id": "4c756kopszKx",
        "colab_type": "text"
      },
      "source": [
        "### Run training script"
      ]
    },
    {
      "cell_type": "code",
      "metadata": {
        "id": "a6UOA79Ku7R-",
        "colab_type": "code",
        "colab": {}
      },
      "source": [
        "import os\n",
        "os.environ['PYTHONPATH'] += \":/content/Road-Lane-Semantic-segmentation\"\n",
        "!chmod 755 load_from_gdrive.sh"
      ],
      "execution_count": 0,
      "outputs": []
    },
    {
      "cell_type": "code",
      "metadata": {
        "id": "GJmtxd3xvxPV",
        "colab_type": "code",
        "colab": {
          "base_uri": "https://localhost:8080/",
          "height": 1000
        },
        "outputId": "9e1145ae-15e0-4bfa-d745-e3f932ab54b4"
      },
      "source": [
        "!python roadseg/scripts/train_chain.py -c configs.json"
      ],
      "execution_count": 9,
      "outputs": [
        {
          "output_type": "stream",
          "text": [
            "Using TensorFlow backend.\n",
            "2020-05-03 12:43:22.453201: I tensorflow/stream_executor/platform/default/dso_loader.cc:44] Successfully opened dynamic library libcudart.so.10.1\n",
            "loading from google drive\n",
            "downloading data\n",
            "-                       [ <=>                ]   3.17K  --.-KB/s    in 0s      \n",
            "data_road.zip           [            <=>     ] 449.15M   180MB/s    in 2.5s    \n",
            "downloading weights file\n",
            "-                       [    <=>             ]  56.16M  74.9MB/s    in 0.7s    \n",
            "weights/vgg16_weigh     [    <=>             ]  56.16M  80.2MB/s    in 0.7s    \n",
            "training data shape: (510, 160, 576, 3)\n",
            "loading from google drive\n",
            "data exists\n",
            "weights file exists\n",
            "validation data shape: (34, 160, 576, 3)\n",
            "2020-05-03 12:43:46.016144: I tensorflow/stream_executor/platform/default/dso_loader.cc:44] Successfully opened dynamic library libcuda.so.1\n",
            "2020-05-03 12:43:46.055010: I tensorflow/stream_executor/cuda/cuda_gpu_executor.cc:981] successful NUMA node read from SysFS had negative value (-1), but there must be at least one NUMA node, so returning NUMA node zero\n",
            "2020-05-03 12:43:46.055629: I tensorflow/core/common_runtime/gpu/gpu_device.cc:1561] Found device 0 with properties: \n",
            "pciBusID: 0000:00:04.0 name: Tesla T4 computeCapability: 7.5\n",
            "coreClock: 1.59GHz coreCount: 40 deviceMemorySize: 14.73GiB deviceMemoryBandwidth: 298.08GiB/s\n",
            "2020-05-03 12:43:46.055690: I tensorflow/stream_executor/platform/default/dso_loader.cc:44] Successfully opened dynamic library libcudart.so.10.1\n",
            "2020-05-03 12:43:46.057299: I tensorflow/stream_executor/platform/default/dso_loader.cc:44] Successfully opened dynamic library libcublas.so.10\n",
            "2020-05-03 12:43:46.058933: I tensorflow/stream_executor/platform/default/dso_loader.cc:44] Successfully opened dynamic library libcufft.so.10\n",
            "2020-05-03 12:43:46.059309: I tensorflow/stream_executor/platform/default/dso_loader.cc:44] Successfully opened dynamic library libcurand.so.10\n",
            "2020-05-03 12:43:46.060803: I tensorflow/stream_executor/platform/default/dso_loader.cc:44] Successfully opened dynamic library libcusolver.so.10\n",
            "2020-05-03 12:43:46.061555: I tensorflow/stream_executor/platform/default/dso_loader.cc:44] Successfully opened dynamic library libcusparse.so.10\n",
            "2020-05-03 12:43:46.064629: I tensorflow/stream_executor/platform/default/dso_loader.cc:44] Successfully opened dynamic library libcudnn.so.7\n",
            "2020-05-03 12:43:46.064756: I tensorflow/stream_executor/cuda/cuda_gpu_executor.cc:981] successful NUMA node read from SysFS had negative value (-1), but there must be at least one NUMA node, so returning NUMA node zero\n",
            "2020-05-03 12:43:46.065328: I tensorflow/stream_executor/cuda/cuda_gpu_executor.cc:981] successful NUMA node read from SysFS had negative value (-1), but there must be at least one NUMA node, so returning NUMA node zero\n",
            "2020-05-03 12:43:46.065867: I tensorflow/core/common_runtime/gpu/gpu_device.cc:1703] Adding visible gpu devices: 0\n",
            "2020-05-03 12:43:46.066219: I tensorflow/core/platform/cpu_feature_guard.cc:143] Your CPU supports instructions that this TensorFlow binary was not compiled to use: AVX512F\n",
            "2020-05-03 12:43:46.071602: I tensorflow/core/platform/profile_utils/cpu_utils.cc:102] CPU Frequency: 2000134999 Hz\n",
            "2020-05-03 12:43:46.071919: I tensorflow/compiler/xla/service/service.cc:168] XLA service 0x12fcd80 initialized for platform Host (this does not guarantee that XLA will be used). Devices:\n",
            "2020-05-03 12:43:46.071955: I tensorflow/compiler/xla/service/service.cc:176]   StreamExecutor device (0): Host, Default Version\n",
            "2020-05-03 12:43:46.170680: I tensorflow/stream_executor/cuda/cuda_gpu_executor.cc:981] successful NUMA node read from SysFS had negative value (-1), but there must be at least one NUMA node, so returning NUMA node zero\n",
            "2020-05-03 12:43:46.171402: I tensorflow/compiler/xla/service/service.cc:168] XLA service 0x12fcf40 initialized for platform CUDA (this does not guarantee that XLA will be used). Devices:\n",
            "2020-05-03 12:43:46.171437: I tensorflow/compiler/xla/service/service.cc:176]   StreamExecutor device (0): Tesla T4, Compute Capability 7.5\n",
            "2020-05-03 12:43:46.171658: I tensorflow/stream_executor/cuda/cuda_gpu_executor.cc:981] successful NUMA node read from SysFS had negative value (-1), but there must be at least one NUMA node, so returning NUMA node zero\n",
            "2020-05-03 12:43:46.172181: I tensorflow/core/common_runtime/gpu/gpu_device.cc:1561] Found device 0 with properties: \n",
            "pciBusID: 0000:00:04.0 name: Tesla T4 computeCapability: 7.5\n",
            "coreClock: 1.59GHz coreCount: 40 deviceMemorySize: 14.73GiB deviceMemoryBandwidth: 298.08GiB/s\n",
            "2020-05-03 12:43:46.172245: I tensorflow/stream_executor/platform/default/dso_loader.cc:44] Successfully opened dynamic library libcudart.so.10.1\n",
            "2020-05-03 12:43:46.172294: I tensorflow/stream_executor/platform/default/dso_loader.cc:44] Successfully opened dynamic library libcublas.so.10\n",
            "2020-05-03 12:43:46.172321: I tensorflow/stream_executor/platform/default/dso_loader.cc:44] Successfully opened dynamic library libcufft.so.10\n",
            "2020-05-03 12:43:46.172351: I tensorflow/stream_executor/platform/default/dso_loader.cc:44] Successfully opened dynamic library libcurand.so.10\n",
            "2020-05-03 12:43:46.172390: I tensorflow/stream_executor/platform/default/dso_loader.cc:44] Successfully opened dynamic library libcusolver.so.10\n",
            "2020-05-03 12:43:46.172415: I tensorflow/stream_executor/platform/default/dso_loader.cc:44] Successfully opened dynamic library libcusparse.so.10\n",
            "2020-05-03 12:43:46.172438: I tensorflow/stream_executor/platform/default/dso_loader.cc:44] Successfully opened dynamic library libcudnn.so.7\n",
            "2020-05-03 12:43:46.172528: I tensorflow/stream_executor/cuda/cuda_gpu_executor.cc:981] successful NUMA node read from SysFS had negative value (-1), but there must be at least one NUMA node, so returning NUMA node zero\n",
            "2020-05-03 12:43:46.173106: I tensorflow/stream_executor/cuda/cuda_gpu_executor.cc:981] successful NUMA node read from SysFS had negative value (-1), but there must be at least one NUMA node, so returning NUMA node zero\n",
            "2020-05-03 12:43:46.173647: I tensorflow/core/common_runtime/gpu/gpu_device.cc:1703] Adding visible gpu devices: 0\n",
            "2020-05-03 12:43:46.173718: I tensorflow/stream_executor/platform/default/dso_loader.cc:44] Successfully opened dynamic library libcudart.so.10.1\n",
            "2020-05-03 12:43:46.610236: I tensorflow/core/common_runtime/gpu/gpu_device.cc:1102] Device interconnect StreamExecutor with strength 1 edge matrix:\n",
            "2020-05-03 12:43:46.610298: I tensorflow/core/common_runtime/gpu/gpu_device.cc:1108]      0 \n",
            "2020-05-03 12:43:46.610311: I tensorflow/core/common_runtime/gpu/gpu_device.cc:1121] 0:   N \n",
            "2020-05-03 12:43:46.610537: I tensorflow/stream_executor/cuda/cuda_gpu_executor.cc:981] successful NUMA node read from SysFS had negative value (-1), but there must be at least one NUMA node, so returning NUMA node zero\n",
            "2020-05-03 12:43:46.611115: I tensorflow/stream_executor/cuda/cuda_gpu_executor.cc:981] successful NUMA node read from SysFS had negative value (-1), but there must be at least one NUMA node, so returning NUMA node zero\n",
            "2020-05-03 12:43:46.611631: W tensorflow/core/common_runtime/gpu/gpu_bfc_allocator.cc:39] Overriding allow_growth setting because the TF_FORCE_GPU_ALLOW_GROWTH environment variable is set. Original config value was 0.\n",
            "2020-05-03 12:43:46.611676: I tensorflow/core/common_runtime/gpu/gpu_device.cc:1247] Created TensorFlow device (/job:localhost/replica:0/task:0/device:GPU:0 with 13970 MB memory) -> physical GPU (device: 0, name: Tesla T4, pci bus id: 0000:00:04.0, compute capability: 7.5)\n",
            "Train on 510 samples, validate on 34 samples\n",
            "Epoch 1/10\n",
            "2020-05-03 12:43:57.344446: I tensorflow/stream_executor/platform/default/dso_loader.cc:44] Successfully opened dynamic library libcudnn.so.7\n",
            "2020-05-03 12:43:58.961984: I tensorflow/stream_executor/platform/default/dso_loader.cc:44] Successfully opened dynamic library libcublas.so.10\n",
            "510/510 [==============================] - 34s 66ms/step - loss: 0.5475 - acc: 0.6830 - val_loss: 0.3248 - val_acc: 0.8499\n",
            "Epoch 2/10\n",
            "510/510 [==============================] - 22s 43ms/step - loss: 0.2400 - acc: 0.8933 - val_loss: 0.1941 - val_acc: 0.9137\n",
            "Epoch 3/10\n",
            "510/510 [==============================] - 22s 44ms/step - loss: 0.1730 - acc: 0.9246 - val_loss: 0.1767 - val_acc: 0.9207\n",
            "Epoch 4/10\n",
            "510/510 [==============================] - 23s 44ms/step - loss: 0.1509 - acc: 0.9345 - val_loss: 0.1632 - val_acc: 0.9274\n",
            "Epoch 5/10\n",
            "510/510 [==============================] - 23s 44ms/step - loss: 0.1318 - acc: 0.9431 - val_loss: 0.1624 - val_acc: 0.9292\n",
            "Epoch 6/10\n",
            "510/510 [==============================] - 23s 44ms/step - loss: 0.1197 - acc: 0.9488 - val_loss: 0.1684 - val_acc: 0.9271\n",
            "Epoch 7/10\n",
            "510/510 [==============================] - 22s 44ms/step - loss: 0.1147 - acc: 0.9507 - val_loss: 0.1676 - val_acc: 0.9298\n",
            "Epoch 8/10\n",
            "510/510 [==============================] - 23s 44ms/step - loss: 0.1019 - acc: 0.9566 - val_loss: 0.1672 - val_acc: 0.9308\n",
            "Epoch 9/10\n",
            "510/510 [==============================] - 23s 44ms/step - loss: 0.0961 - acc: 0.9591 - val_loss: 0.1677 - val_acc: 0.9311\n",
            "Epoch 10/10\n",
            "510/510 [==============================] - 23s 44ms/step - loss: 0.0908 - acc: 0.9614 - val_loss: 0.1739 - val_acc: 0.9288\n"
          ],
          "name": "stdout"
        }
      ]
    },
    {
      "cell_type": "markdown",
      "metadata": {
        "id": "MISDVUoukOSm",
        "colab_type": "text"
      },
      "source": [
        "### Save model file and training performance plots to gdrive"
      ]
    },
    {
      "cell_type": "code",
      "metadata": {
        "id": "sCedvoHATOGg",
        "colab_type": "code",
        "colab": {
          "base_uri": "https://localhost:8080/",
          "height": 34
        },
        "outputId": "515f44a5-59cf-44d8-9703-8eafe831178b"
      },
      "source": [
        "from google.colab import drive\n",
        "drive.mount('/content/gdrive', force_remount=True)\n",
        "target_file = \"/content/gdrive/My Drive/semantic_segmentation/fcn32.h5\""
      ],
      "execution_count": 10,
      "outputs": [
        {
          "output_type": "stream",
          "text": [
            "Mounted at /content/gdrive\n"
          ],
          "name": "stdout"
        }
      ]
    },
    {
      "cell_type": "code",
      "metadata": {
        "id": "qK0ZTwueiWRj",
        "colab_type": "code",
        "colab": {}
      },
      "source": [
        "!mkdir -p \"/content/gdrive/My Drive/semantic_segmentation/plots\"\n",
        "!cp plots/training_perf.png \"/content/gdrive/My Drive/semantic_segmentation/plots/training_perf.png\"\n",
        "!cp models/fcn32.h5 \"/content/gdrive/My Drive/semantic_segmentation/fcn32.h5\""
      ],
      "execution_count": 0,
      "outputs": []
    }
  ]
}